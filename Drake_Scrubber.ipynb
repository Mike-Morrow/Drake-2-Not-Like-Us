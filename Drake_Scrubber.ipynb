{
  "nbformat": 4,
  "nbformat_minor": 0,
  "metadata": {
    "colab": {
      "provenance": []
    },
    "kernelspec": {
      "name": "python3",
      "display_name": "Python 3"
    },
    "language_info": {
      "name": "python"
    }
  },
  "cells": [
    {
      "cell_type": "markdown",
      "source": [
        "To run this you need to do the following:\n",
        "\n",
        "\n",
        "1.   Create a Spotify Developer account (developer.spotify.com)\n",
        "2.   Once logged into Spotify Developer portal, go to Dashboard > Create App\n",
        "\n",
        "3.   In the app settings in the Spotify portal, make the redirect URL https://example.com/callback\n",
        "4.   Insert your Client ID and Client Secret into the script's placeholder variables\n",
        "\n",
        "\n"
      ],
      "metadata": {
        "id": "C9lgefL1F1bS"
      }
    },
    {
      "cell_type": "code",
      "source": [
        "!pip install spotipy\n",
        "\n",
        "import spotipy\n",
        "from spotipy.oauth2 import SpotifyOAuth\n",
        "import json\n",
        "\n",
        "#Spotify API credentials\n",
        "CLIENT_ID = 'YOUR_CLIENT_ID'\n",
        "CLIENT_SECRET = 'YOUR_CLIENT_SECRET'\n",
        "REDIRECT_URI = 'https://example.com/callback'  #You can use any valid redirect URI\n",
        "SCOPE = 'playlist-modify-public playlist-modify-private'\n",
        "\n",
        "#Initialize Spotipy\n",
        "sp_oauth = SpotifyOAuth(client_id=CLIENT_ID,\n",
        "                        client_secret=CLIENT_SECRET,\n",
        "                        redirect_uri=REDIRECT_URI,\n",
        "                        scope=SCOPE)\n",
        "\n",
        "#Get the authorization URL\n",
        "auth_url = sp_oauth.get_authorize_url()\n",
        "print(f\"Please go to this URL and authorize access: {auth_url}\")"
      ],
      "metadata": {
        "id": "S6C-4qUE_S3c"
      },
      "execution_count": null,
      "outputs": []
    },
    {
      "cell_type": "code",
      "source": [
        "token_info = sp_oauth.get_cached_token()\n",
        "\n",
        "if not token_info:\n",
        "    auth_url = sp_oauth.get_authorize_url()\n",
        "    print(auth_url)\n",
        "    response = input('Paste the above link into your browser, then paste the redirect URL here: ')\n",
        "    code = sp_oauth.parse_response_code(response)\n",
        "    token_info = sp_oauth.get_access_token(code)\n",
        "    print('Token obtained.')"
      ],
      "metadata": {
        "id": "1z3z2STn6Yj4"
      },
      "execution_count": null,
      "outputs": []
    },
    {
      "cell_type": "code",
      "source": [
        "#Function to get all playlists\n",
        "def get_all_playlists():\n",
        "    playlists = []\n",
        "    results = sp.current_user_playlists()\n",
        "    while results:\n",
        "        playlists.extend(results['items'])\n",
        "        results = sp.next(results) if results['next'] else None\n",
        "    return playlists\n",
        "\n",
        "#Function to get tracks in a playlist\n",
        "def get_playlist_tracks(playlist_id):\n",
        "    tracks = []\n",
        "    results = sp.playlist_tracks(playlist_id)\n",
        "    while results:\n",
        "        tracks.extend(results['items'])\n",
        "        results = sp.next(results) if results['next'] else None\n",
        "    return tracks\n",
        "\n",
        "#Function to find drake songs and replace with Kendrick Lamar's \"Not like us\"\n",
        "def replace_drake_songs():\n",
        "    playlists = get_all_playlists()\n",
        "    kendrick_track_uri = 'spotify:track:6AI3ezQ4o3HUoP6Dhudph3'  # URI for \"Not like us\" by Kendrick Lamar\n",
        "\n",
        "    for playlist in playlists:\n",
        "        playlist_id = playlist['id']\n",
        "        tracks = get_playlist_tracks(playlist_id)\n",
        "        for item in tracks:\n",
        "            track = item['track']\n",
        "            if track is not None and 'drake' in [artist['name'].lower() for artist in track['artists'] if artist['name']]:\n",
        "                track_uri = track['uri']\n",
        "                try:\n",
        "                    sp.playlist_remove_all_occurrences_of_items(playlist_id, [track_uri])\n",
        "                    sp.playlist_add_items(playlist_id, [kendrick_track_uri])\n",
        "                    print(f\"Replaced {track['name']} by Drake with Kendrick Lamar's 'Not like us' in playlist {playlist['name']}\")\n",
        "                except spotipy.SpotifyException as e:\n",
        "                    if e.http_status == 403:\n",
        "                        print(f\"Skipping playlist {playlist['name']} due to insufficient permissions.\")\n",
        "                    else:\n",
        "                        raise\n",
        "\n",
        "#Execute the replacement\n",
        "replace_drake_songs()"
      ],
      "metadata": {
        "id": "VRQOD2qzA4fE"
      },
      "execution_count": null,
      "outputs": []
    }
  ]
}